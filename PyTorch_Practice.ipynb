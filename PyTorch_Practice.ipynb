{
  "nbformat": 4,
  "nbformat_minor": 0,
  "metadata": {
    "colab": {
      "name": "PyTorch - Practice.ipynb",
      "provenance": [],
      "collapsed_sections": [
        "ulNy89NmrwgY",
        "m9RnHl6kRTAJ",
        "fJBgh9XsFoi5",
        "RjsyIOVQLAb8",
        "MIRWJIg-053H",
        "7hB1WEz2ruHZ",
        "eqvQCpBitpzp"
      ],
      "authorship_tag": "ABX9TyPF/n/Dah52eh9VB0nxHP40",
      "include_colab_link": true
    },
    "kernelspec": {
      "name": "python3",
      "display_name": "Python 3"
    },
    "accelerator": "GPU",
    "widgets": {
      "application/vnd.jupyter.widget-state+json": {
        "a95280bf31af45a78fb8b3a6adb40869": {
          "model_module": "@jupyter-widgets/controls",
          "model_name": "HBoxModel",
          "state": {
            "_view_name": "HBoxView",
            "_dom_classes": [],
            "_model_name": "HBoxModel",
            "_view_module": "@jupyter-widgets/controls",
            "_model_module_version": "1.5.0",
            "_view_count": null,
            "_view_module_version": "1.5.0",
            "box_style": "",
            "layout": "IPY_MODEL_c14b843c89cd4f3abfde85084f4f54c1",
            "_model_module": "@jupyter-widgets/controls",
            "children": [
              "IPY_MODEL_ddb1469b720240be8099ea3e433d6007",
              "IPY_MODEL_95074207e1bf47079eaa577fb0cd2ed0"
            ]
          }
        },
        "c14b843c89cd4f3abfde85084f4f54c1": {
          "model_module": "@jupyter-widgets/base",
          "model_name": "LayoutModel",
          "state": {
            "_view_name": "LayoutView",
            "grid_template_rows": null,
            "right": null,
            "justify_content": null,
            "_view_module": "@jupyter-widgets/base",
            "overflow": null,
            "_model_module_version": "1.2.0",
            "_view_count": null,
            "flex_flow": null,
            "width": null,
            "min_width": null,
            "border": null,
            "align_items": null,
            "bottom": null,
            "_model_module": "@jupyter-widgets/base",
            "top": null,
            "grid_column": null,
            "overflow_y": null,
            "overflow_x": null,
            "grid_auto_flow": null,
            "grid_area": null,
            "grid_template_columns": null,
            "flex": null,
            "_model_name": "LayoutModel",
            "justify_items": null,
            "grid_row": null,
            "max_height": null,
            "align_content": null,
            "visibility": null,
            "align_self": null,
            "height": null,
            "min_height": null,
            "padding": null,
            "grid_auto_rows": null,
            "grid_gap": null,
            "max_width": null,
            "order": null,
            "_view_module_version": "1.2.0",
            "grid_template_areas": null,
            "object_position": null,
            "object_fit": null,
            "grid_auto_columns": null,
            "margin": null,
            "display": null,
            "left": null
          }
        },
        "ddb1469b720240be8099ea3e433d6007": {
          "model_module": "@jupyter-widgets/controls",
          "model_name": "FloatProgressModel",
          "state": {
            "_view_name": "ProgressView",
            "style": "IPY_MODEL_c7c0ffa29cb8410f985a69458712cfa2",
            "_dom_classes": [],
            "description": "",
            "_model_name": "FloatProgressModel",
            "bar_style": "success",
            "max": 170498071,
            "_view_module": "@jupyter-widgets/controls",
            "_model_module_version": "1.5.0",
            "value": 170498071,
            "_view_count": null,
            "_view_module_version": "1.5.0",
            "orientation": "horizontal",
            "min": 0,
            "description_tooltip": null,
            "_model_module": "@jupyter-widgets/controls",
            "layout": "IPY_MODEL_142d136e736243e4a1e2215117fb4f42"
          }
        },
        "95074207e1bf47079eaa577fb0cd2ed0": {
          "model_module": "@jupyter-widgets/controls",
          "model_name": "HTMLModel",
          "state": {
            "_view_name": "HTMLView",
            "style": "IPY_MODEL_6314aa9a6c7940dd8845cf00d93e24a3",
            "_dom_classes": [],
            "description": "",
            "_model_name": "HTMLModel",
            "placeholder": "​",
            "_view_module": "@jupyter-widgets/controls",
            "_model_module_version": "1.5.0",
            "value": " 170499072/? [00:34&lt;00:00, 4964702.03it/s]",
            "_view_count": null,
            "_view_module_version": "1.5.0",
            "description_tooltip": null,
            "_model_module": "@jupyter-widgets/controls",
            "layout": "IPY_MODEL_43cd1d08976e4eb2a415ab17f5b1ceaf"
          }
        },
        "c7c0ffa29cb8410f985a69458712cfa2": {
          "model_module": "@jupyter-widgets/controls",
          "model_name": "ProgressStyleModel",
          "state": {
            "_view_name": "StyleView",
            "_model_name": "ProgressStyleModel",
            "description_width": "initial",
            "_view_module": "@jupyter-widgets/base",
            "_model_module_version": "1.5.0",
            "_view_count": null,
            "_view_module_version": "1.2.0",
            "bar_color": null,
            "_model_module": "@jupyter-widgets/controls"
          }
        },
        "142d136e736243e4a1e2215117fb4f42": {
          "model_module": "@jupyter-widgets/base",
          "model_name": "LayoutModel",
          "state": {
            "_view_name": "LayoutView",
            "grid_template_rows": null,
            "right": null,
            "justify_content": null,
            "_view_module": "@jupyter-widgets/base",
            "overflow": null,
            "_model_module_version": "1.2.0",
            "_view_count": null,
            "flex_flow": null,
            "width": null,
            "min_width": null,
            "border": null,
            "align_items": null,
            "bottom": null,
            "_model_module": "@jupyter-widgets/base",
            "top": null,
            "grid_column": null,
            "overflow_y": null,
            "overflow_x": null,
            "grid_auto_flow": null,
            "grid_area": null,
            "grid_template_columns": null,
            "flex": null,
            "_model_name": "LayoutModel",
            "justify_items": null,
            "grid_row": null,
            "max_height": null,
            "align_content": null,
            "visibility": null,
            "align_self": null,
            "height": null,
            "min_height": null,
            "padding": null,
            "grid_auto_rows": null,
            "grid_gap": null,
            "max_width": null,
            "order": null,
            "_view_module_version": "1.2.0",
            "grid_template_areas": null,
            "object_position": null,
            "object_fit": null,
            "grid_auto_columns": null,
            "margin": null,
            "display": null,
            "left": null
          }
        },
        "6314aa9a6c7940dd8845cf00d93e24a3": {
          "model_module": "@jupyter-widgets/controls",
          "model_name": "DescriptionStyleModel",
          "state": {
            "_view_name": "StyleView",
            "_model_name": "DescriptionStyleModel",
            "description_width": "",
            "_view_module": "@jupyter-widgets/base",
            "_model_module_version": "1.5.0",
            "_view_count": null,
            "_view_module_version": "1.2.0",
            "_model_module": "@jupyter-widgets/controls"
          }
        },
        "43cd1d08976e4eb2a415ab17f5b1ceaf": {
          "model_module": "@jupyter-widgets/base",
          "model_name": "LayoutModel",
          "state": {
            "_view_name": "LayoutView",
            "grid_template_rows": null,
            "right": null,
            "justify_content": null,
            "_view_module": "@jupyter-widgets/base",
            "overflow": null,
            "_model_module_version": "1.2.0",
            "_view_count": null,
            "flex_flow": null,
            "width": null,
            "min_width": null,
            "border": null,
            "align_items": null,
            "bottom": null,
            "_model_module": "@jupyter-widgets/base",
            "top": null,
            "grid_column": null,
            "overflow_y": null,
            "overflow_x": null,
            "grid_auto_flow": null,
            "grid_area": null,
            "grid_template_columns": null,
            "flex": null,
            "_model_name": "LayoutModel",
            "justify_items": null,
            "grid_row": null,
            "max_height": null,
            "align_content": null,
            "visibility": null,
            "align_self": null,
            "height": null,
            "min_height": null,
            "padding": null,
            "grid_auto_rows": null,
            "grid_gap": null,
            "max_width": null,
            "order": null,
            "_view_module_version": "1.2.0",
            "grid_template_areas": null,
            "object_position": null,
            "object_fit": null,
            "grid_auto_columns": null,
            "margin": null,
            "display": null,
            "left": null
          }
        }
      }
    }
  },
  "cells": [
    {
      "cell_type": "markdown",
      "metadata": {
        "id": "view-in-github",
        "colab_type": "text"
      },
      "source": [
        "<a href=\"https://colab.research.google.com/github/amanosan/Pytorch-Tutorials/blob/master/PyTorch_Practice.ipynb\" target=\"_parent\"><img src=\"https://colab.research.google.com/assets/colab-badge.svg\" alt=\"Open In Colab\"/></a>"
      ]
    },
    {
      "cell_type": "code",
      "metadata": {
        "id": "M7r2M1i7dqDQ"
      },
      "source": [
        " import torch"
      ],
      "execution_count": null,
      "outputs": []
    },
    {
      "cell_type": "code",
      "metadata": {
        "colab": {
          "base_uri": "https://localhost:8080/"
        },
        "id": "2tkjM4IUdwoQ",
        "outputId": "91b7d6c9-aec8-4c38-f2cb-627fe219bbbc"
      },
      "source": [
        "print(torch.__version__)"
      ],
      "execution_count": null,
      "outputs": [
        {
          "output_type": "stream",
          "text": [
            "1.7.1+cu101\n"
          ],
          "name": "stdout"
        }
      ]
    },
    {
      "cell_type": "markdown",
      "metadata": {
        "id": "bhv0junyd3Ie"
      },
      "source": [
        "### Initializing Tensors"
      ]
    },
    {
      "cell_type": "code",
      "metadata": {
        "id": "a3zMd_REeRJI"
      },
      "source": [
        "device = 'cuda' if torch.cuda.is_available() else 'cpu'"
      ],
      "execution_count": null,
      "outputs": []
    },
    {
      "cell_type": "code",
      "metadata": {
        "id": "9muiJjHjeAvZ"
      },
      "source": [
        "tensor1 = torch.tensor([[1, 2, 3], [4, 5, 6]], dtype=torch.float32, device=device) "
      ],
      "execution_count": null,
      "outputs": []
    },
    {
      "cell_type": "code",
      "metadata": {
        "colab": {
          "base_uri": "https://localhost:8080/"
        },
        "id": "4ff89xSFeKy6",
        "outputId": "840b13a0-db05-41d8-cd52-9d48798668f8"
      },
      "source": [
        "print(f\"{tensor1}, {tensor1.device}, {tensor1.dtype}, {tensor1.shape}\")"
      ],
      "execution_count": null,
      "outputs": [
        {
          "output_type": "stream",
          "text": [
            "tensor([[1., 2., 3.],\n",
            "        [4., 5., 6.]]), cpu, torch.float32, torch.Size([2, 3])\n"
          ],
          "name": "stdout"
        }
      ]
    },
    {
      "cell_type": "code",
      "metadata": {
        "colab": {
          "base_uri": "https://localhost:8080/"
        },
        "id": "OQxk7xAOeaLT",
        "outputId": "88365153-4906-447a-9f2a-6c0084f625da"
      },
      "source": [
        "# junk values with specified shape\n",
        "tensor2 = torch.empty(size=(3,3))\n",
        "print(tensor2)"
      ],
      "execution_count": null,
      "outputs": [
        {
          "output_type": "stream",
          "text": [
            "tensor([[3.4714e-32, 3.0914e-41, 3.3631e-44],\n",
            "        [0.0000e+00,        nan, 1.4013e-45],\n",
            "        [1.1578e+27, 1.1362e+30, 7.1547e+22]])\n"
          ],
          "name": "stdout"
        }
      ]
    },
    {
      "cell_type": "code",
      "metadata": {
        "colab": {
          "base_uri": "https://localhost:8080/"
        },
        "id": "RXPIuO1MfQEF",
        "outputId": "9e44e650-e7e9-45bc-d42d-c01ccd84c125"
      },
      "source": [
        "# tensor with zeros\n",
        "tensor3 = torch.zeros(size=(3,3))\n",
        "print(tensor3)"
      ],
      "execution_count": null,
      "outputs": [
        {
          "output_type": "stream",
          "text": [
            "tensor([[0., 0., 0.],\n",
            "        [0., 0., 0.],\n",
            "        [0., 0., 0.]])\n"
          ],
          "name": "stdout"
        }
      ]
    },
    {
      "cell_type": "code",
      "metadata": {
        "colab": {
          "base_uri": "https://localhost:8080/"
        },
        "id": "RJb8AHM9fb3s",
        "outputId": "846bb574-a655-4f80-c9f3-cc2b197eb762"
      },
      "source": [
        "# random value initialization\n",
        "tensor4 = torch.rand(size=(3,3))\n",
        "print(tensor4)"
      ],
      "execution_count": null,
      "outputs": [
        {
          "output_type": "stream",
          "text": [
            "tensor([[0.6007, 0.3759, 0.5007],\n",
            "        [0.7023, 0.3512, 0.2250],\n",
            "        [0.3424, 0.4061, 0.9846]])\n"
          ],
          "name": "stdout"
        }
      ]
    },
    {
      "cell_type": "code",
      "metadata": {
        "colab": {
          "base_uri": "https://localhost:8080/"
        },
        "id": "cwqZ0ed_flKX",
        "outputId": "5cbb76cf-4ee3-4921-ba95-c9d4f2a556e9"
      },
      "source": [
        "# tensor one initialization\n",
        "tensor5 = torch.ones(size=(3,3))\n",
        "print(tensor5) "
      ],
      "execution_count": null,
      "outputs": [
        {
          "output_type": "stream",
          "text": [
            "tensor([[1., 1., 1.],\n",
            "        [1., 1., 1.],\n",
            "        [1., 1., 1.]])\n"
          ],
          "name": "stdout"
        }
      ]
    },
    {
      "cell_type": "code",
      "metadata": {
        "colab": {
          "base_uri": "https://localhost:8080/"
        },
        "id": "agzVySzsf9ng",
        "outputId": "d93f2f5a-b685-4fbc-8997-d11d26661485"
      },
      "source": [
        "# tensor with identity initialization\n",
        "tensor6 = torch.eye(3, 3)\n",
        "print(tensor6)"
      ],
      "execution_count": null,
      "outputs": [
        {
          "output_type": "stream",
          "text": [
            "tensor([[1., 0., 0.],\n",
            "        [0., 1., 0.],\n",
            "        [0., 0., 1.]])\n"
          ],
          "name": "stdout"
        }
      ]
    },
    {
      "cell_type": "code",
      "metadata": {
        "colab": {
          "base_uri": "https://localhost:8080/"
        },
        "id": "xDkkgGYdgFX-",
        "outputId": "3fd2d0da-235b-400a-de37-a3be097deff3"
      },
      "source": [
        "# tensor arange function\n",
        "tensor7 = torch.arange(start=0, end=5, step=1)\n",
        "print(tensor7)"
      ],
      "execution_count": null,
      "outputs": [
        {
          "output_type": "stream",
          "text": [
            "tensor([0, 1, 2, 3, 4])\n"
          ],
          "name": "stdout"
        }
      ]
    },
    {
      "cell_type": "code",
      "metadata": {
        "colab": {
          "base_uri": "https://localhost:8080/"
        },
        "id": "nty8YMt8gfKH",
        "outputId": "98910a5e-7a3d-4f27-debd-5609ccd72871"
      },
      "source": [
        "# tensor linspace function\n",
        "tensor8 = torch.linspace(start=0.1, end=1, steps=10)\n",
        "print(tensor8)"
      ],
      "execution_count": null,
      "outputs": [
        {
          "output_type": "stream",
          "text": [
            "tensor([0.1000, 0.2000, 0.3000, 0.4000, 0.5000, 0.6000, 0.7000, 0.8000, 0.9000,\n",
            "        1.0000])\n"
          ],
          "name": "stdout"
        }
      ]
    },
    {
      "cell_type": "code",
      "metadata": {
        "colab": {
          "base_uri": "https://localhost:8080/"
        },
        "id": "KhhbvuA9g5G3",
        "outputId": "01cc6f0f-0597-40e9-ff94-f1943b5f9be8"
      },
      "source": [
        "# tensor with specified mean and std normal distribution\n",
        "tensor9 = torch.rand(size=(3,3)).normal_(mean=0, std=1)\n",
        "print(tensor9)"
      ],
      "execution_count": null,
      "outputs": [
        {
          "output_type": "stream",
          "text": [
            "tensor([[ 0.2959,  1.9589,  1.2967],\n",
            "        [ 0.4268, -0.1759,  0.4871],\n",
            "        [ 0.9903,  0.9670,  0.3603]])\n"
          ],
          "name": "stdout"
        }
      ]
    },
    {
      "cell_type": "code",
      "metadata": {
        "colab": {
          "base_uri": "https://localhost:8080/"
        },
        "id": "fsd6ZYdHhVbQ",
        "outputId": "7a721df7-3504-45d2-da52-e7b3bedfaca1"
      },
      "source": [
        "# tensor with uniform distribution\n",
        "tensor = torch.rand(size=(3,3)).uniform_(0, 10) # (start, end)\n",
        "print(tensor)"
      ],
      "execution_count": null,
      "outputs": [
        {
          "output_type": "stream",
          "text": [
            "tensor([[2.9606, 2.2650, 0.8438],\n",
            "        [6.6940, 1.9715, 4.3702],\n",
            "        [6.0936, 4.3069, 8.5076]])\n"
          ],
          "name": "stdout"
        }
      ]
    },
    {
      "cell_type": "code",
      "metadata": {
        "colab": {
          "base_uri": "https://localhost:8080/"
        },
        "id": "RRkJxl-MXUpA",
        "outputId": "5bbbe9ed-9ab6-482b-973e-564a160907f7"
      },
      "source": [
        "# Converting Tensors to different data types\n",
        "tensor = torch.arange(4)\n",
        "print(tensor, tensor.dtype)\n",
        "print(tensor.bool(), tensor.bool().dtype)  # convert to boolean\n",
        "print(tensor.short(), tensor.short().dtype)  # convert to int16\n",
        "print(tensor.long(), tensor.long().dtype)  # convert to int64 (default value)\n",
        "print(tensor.half(), tensor.half().dtype)  # convert to float16\n",
        "print(tensor.float(), tensor.float().dtype)  # convert to float32\n",
        "print(tensor.double(), tensor.double().dtype)  # convert to float64"
      ],
      "execution_count": null,
      "outputs": [
        {
          "output_type": "stream",
          "text": [
            "tensor([0, 1, 2, 3]) torch.int64\n",
            "tensor([False,  True,  True,  True]) torch.bool\n",
            "tensor([0, 1, 2, 3], dtype=torch.int16) torch.int16\n",
            "tensor([0, 1, 2, 3]) torch.int64\n",
            "tensor([0., 1., 2., 3.], dtype=torch.float16) torch.float16\n",
            "tensor([0., 1., 2., 3.]) torch.float32\n",
            "tensor([0., 1., 2., 3.], dtype=torch.float64) torch.float64\n"
          ],
          "name": "stdout"
        }
      ]
    },
    {
      "cell_type": "code",
      "metadata": {
        "id": "BWkUNMWrpt4h"
      },
      "source": [
        "# ARRAY TO TENSOR CONVERSION AND VICE-VERSA"
      ],
      "execution_count": null,
      "outputs": []
    },
    {
      "cell_type": "code",
      "metadata": {
        "id": "a2gJKlHKrODF"
      },
      "source": [
        "import numpy as np"
      ],
      "execution_count": null,
      "outputs": []
    },
    {
      "cell_type": "code",
      "metadata": {
        "id": "b-XlcPksrPZO"
      },
      "source": [
        "a_array = np.random.random((5,5))\n",
        "a_tensor = torch.from_numpy(a_array) # from array to tensor "
      ],
      "execution_count": null,
      "outputs": []
    },
    {
      "cell_type": "code",
      "metadata": {
        "colab": {
          "base_uri": "https://localhost:8080/"
        },
        "id": "UVWA-LiJrbzu",
        "outputId": "d9f09f93-7d5d-43f7-ec78-e7652f737611"
      },
      "source": [
        "print(a_array)\n",
        "print(a_tensor)"
      ],
      "execution_count": null,
      "outputs": [
        {
          "output_type": "stream",
          "text": [
            "[[0.58580273 0.04506678 0.97193264 0.57003978 0.41124155]\n",
            " [0.91465461 0.27863151 0.72221944 0.01069075 0.52466453]\n",
            " [0.70189438 0.9891969  0.42246233 0.54402372 0.51642545]\n",
            " [0.87129862 0.3693617  0.30067424 0.10282073 0.0805993 ]\n",
            " [0.46460124 0.45954868 0.01861135 0.14731194 0.27393291]]\n",
            "tensor([[0.5858, 0.0451, 0.9719, 0.5700, 0.4112],\n",
            "        [0.9147, 0.2786, 0.7222, 0.0107, 0.5247],\n",
            "        [0.7019, 0.9892, 0.4225, 0.5440, 0.5164],\n",
            "        [0.8713, 0.3694, 0.3007, 0.1028, 0.0806],\n",
            "        [0.4646, 0.4595, 0.0186, 0.1473, 0.2739]], dtype=torch.float64)\n"
          ],
          "name": "stdout"
        }
      ]
    },
    {
      "cell_type": "code",
      "metadata": {
        "colab": {
          "base_uri": "https://localhost:8080/"
        },
        "id": "oO0oHFBSrdsg",
        "outputId": "784c66c7-cdff-44d9-ed2c-c0203829cb04"
      },
      "source": [
        "b_array = a_tensor.numpy()  # from tensor back to numpy array\n",
        "print(type(b_array))\n",
        "print(b_array)"
      ],
      "execution_count": null,
      "outputs": [
        {
          "output_type": "stream",
          "text": [
            "<class 'numpy.ndarray'>\n",
            "[[0.58580273 0.04506678 0.97193264 0.57003978 0.41124155]\n",
            " [0.91465461 0.27863151 0.72221944 0.01069075 0.52466453]\n",
            " [0.70189438 0.9891969  0.42246233 0.54402372 0.51642545]\n",
            " [0.87129862 0.3693617  0.30067424 0.10282073 0.0805993 ]\n",
            " [0.46460124 0.45954868 0.01861135 0.14731194 0.27393291]]\n"
          ],
          "name": "stdout"
        }
      ]
    },
    {
      "cell_type": "markdown",
      "metadata": {
        "id": "ulNy89NmrwgY"
      },
      "source": [
        "### Tensor Math and Comparison Operations"
      ]
    },
    {
      "cell_type": "code",
      "metadata": {
        "id": "Pa2X-RgzsX9S"
      },
      "source": [
        "x = torch.tensor([1, 2, 3])\n",
        "y = torch.tensor([7, 8, 9])"
      ],
      "execution_count": null,
      "outputs": []
    },
    {
      "cell_type": "code",
      "metadata": {
        "colab": {
          "base_uri": "https://localhost:8080/"
        },
        "id": "0scd2MB-seXg",
        "outputId": "847001d6-7f27-4b36-929f-d017d7bcb93d"
      },
      "source": [
        "# addition\n",
        "z1 = torch.empty(3)\n",
        "torch.add(x, y, out=z1)\n",
        "\n",
        "z2 = torch.add(x, y)\n",
        "\n",
        "z = x + y\n",
        "\n",
        "print(z1)\n",
        "print(z2)\n",
        "print(z)"
      ],
      "execution_count": null,
      "outputs": [
        {
          "output_type": "stream",
          "text": [
            "tensor([ 8., 10., 12.])\n",
            "tensor([ 8, 10, 12])\n",
            "tensor([ 8, 10, 12])\n"
          ],
          "name": "stdout"
        }
      ]
    },
    {
      "cell_type": "code",
      "metadata": {
        "colab": {
          "base_uri": "https://localhost:8080/"
        },
        "id": "hzHo3RKwsqsg",
        "outputId": "b61e64f3-0e44-449b-cda8-20d5711753c6"
      },
      "source": [
        "# subtraction\n",
        "z = x - y\n",
        "print(z)"
      ],
      "execution_count": null,
      "outputs": [
        {
          "output_type": "stream",
          "text": [
            "tensor([-6, -6, -6])\n"
          ],
          "name": "stdout"
        }
      ]
    },
    {
      "cell_type": "code",
      "metadata": {
        "colab": {
          "base_uri": "https://localhost:8080/"
        },
        "id": "n2o53Q6BtC4U",
        "outputId": "38fb3b02-6677-48f0-e693-12fde77830cd"
      },
      "source": [
        "# division\n",
        "z = torch.true_divide(y, x)  # element wise division if both tensors are of equal shape\n",
        "print(z)"
      ],
      "execution_count": null,
      "outputs": [
        {
          "output_type": "stream",
          "text": [
            "tensor([7., 4., 3.])\n"
          ],
          "name": "stdout"
        }
      ]
    },
    {
      "cell_type": "code",
      "metadata": {
        "colab": {
          "base_uri": "https://localhost:8080/"
        },
        "id": "jAazhaj1v2C2",
        "outputId": "843db410-92a6-4605-fe94-11fdbfcc103e"
      },
      "source": [
        "# multiplication\n",
        "z = x * y\n",
        "print(z)"
      ],
      "execution_count": null,
      "outputs": [
        {
          "output_type": "stream",
          "text": [
            "tensor([ 7, 16, 27])\n"
          ],
          "name": "stdout"
        }
      ]
    },
    {
      "cell_type": "code",
      "metadata": {
        "colab": {
          "base_uri": "https://localhost:8080/"
        },
        "id": "08ZXtCRntSHa",
        "outputId": "fbf69e90-f153-40cb-f93c-4d16303b70b3"
      },
      "source": [
        "# INPLACE operations\n",
        "t = torch.zeros(3)\n",
        "t.add_(x) # underscore (_) after the function indicates inplace operation, similar to 't += x'\n",
        "print(t)"
      ],
      "execution_count": null,
      "outputs": [
        {
          "output_type": "stream",
          "text": [
            "tensor([1., 2., 3.])\n"
          ],
          "name": "stdout"
        }
      ]
    },
    {
      "cell_type": "code",
      "metadata": {
        "colab": {
          "base_uri": "https://localhost:8080/"
        },
        "id": "cAOaFaKltu3x",
        "outputId": "90920760-81bf-4e50-9754-59da13ce083c"
      },
      "source": [
        "# Exponentiation\n",
        "z1 = x.pow(2)\n",
        "print(z1)\n",
        "z2 = x ** 2\n",
        "print(z2)"
      ],
      "execution_count": null,
      "outputs": [
        {
          "output_type": "stream",
          "text": [
            "tensor([1, 4, 9])\n",
            "tensor([1, 4, 9])\n"
          ],
          "name": "stdout"
        }
      ]
    },
    {
      "cell_type": "code",
      "metadata": {
        "colab": {
          "base_uri": "https://localhost:8080/"
        },
        "id": "rBYbm5oZuDKb",
        "outputId": "23e962b1-e572-4c33-e7d9-724d2d2f1a81"
      },
      "source": [
        "# Simple Comparisons\n",
        "\n",
        "z1 = x >= 2\n",
        "print(z1)"
      ],
      "execution_count": null,
      "outputs": [
        {
          "output_type": "stream",
          "text": [
            "tensor([False,  True,  True])\n"
          ],
          "name": "stdout"
        }
      ]
    },
    {
      "cell_type": "code",
      "metadata": {
        "colab": {
          "base_uri": "https://localhost:8080/"
        },
        "id": "kZ6dQLIBuU9w",
        "outputId": "9082ae7c-9e1b-422a-ecd6-9220139f3b4a"
      },
      "source": [
        "# Matrix Multiplications\n",
        "\n",
        "x1 = torch.rand(size=(2, 5))\n",
        "x2 = torch.rand(size=(5, 3))\n",
        "\n",
        "x3 = torch.mm(x1, x2)\n",
        "print(x3)\n",
        "\n",
        "x4 = x1.mm(x2)\n",
        "print(x4)\n",
        "# both the above ways are same way of doing matrix multiplication"
      ],
      "execution_count": null,
      "outputs": [
        {
          "output_type": "stream",
          "text": [
            "tensor([[0.9598, 1.6832, 1.4374],\n",
            "        [0.6225, 1.1631, 1.3443]])\n",
            "tensor([[0.9598, 1.6832, 1.4374],\n",
            "        [0.6225, 1.1631, 1.3443]])\n"
          ],
          "name": "stdout"
        }
      ]
    },
    {
      "cell_type": "code",
      "metadata": {
        "colab": {
          "base_uri": "https://localhost:8080/"
        },
        "id": "gjGhzR7iujCa",
        "outputId": "21d8f965-b155-4bbb-91db-b40bd1f0e214"
      },
      "source": [
        "# Matrix Exponentiation\n",
        "matrix_exp = torch.rand((5, 5))\n",
        "\n",
        "print(matrix_exp.matrix_power(3))  # multiplying the matrix three times with itself (m1.m1.m1)"
      ],
      "execution_count": null,
      "outputs": [
        {
          "output_type": "stream",
          "text": [
            "tensor([[2.6660, 1.7459, 2.7926, 3.6825, 1.8423],\n",
            "        [1.2836, 1.1360, 1.1803, 1.6939, 0.9909],\n",
            "        [2.0700, 1.6391, 2.0489, 2.7830, 1.4680],\n",
            "        [2.1408, 1.5757, 2.1822, 2.8812, 1.5482],\n",
            "        [2.1361, 1.5401, 2.1962, 2.9294, 1.4522]])\n"
          ],
          "name": "stdout"
        }
      ]
    },
    {
      "cell_type": "code",
      "metadata": {
        "colab": {
          "base_uri": "https://localhost:8080/"
        },
        "id": "Jvpx4DyZvoy3",
        "outputId": "b5145032-11b0-417c-b47c-719d408cc836"
      },
      "source": [
        "# Dot Product\n",
        "z = torch.dot(x, y)\n",
        "print(z)"
      ],
      "execution_count": null,
      "outputs": [
        {
          "output_type": "stream",
          "text": [
            "tensor(50)\n"
          ],
          "name": "stdout"
        }
      ]
    },
    {
      "cell_type": "code",
      "metadata": {
        "colab": {
          "base_uri": "https://localhost:8080/"
        },
        "id": "474BmPAUwL4x",
        "outputId": "752c61fd-f80d-4b4a-8c67-a9eca80dcf7a"
      },
      "source": [
        "# Batch matrix multiplication\n",
        "batch = 32\n",
        "m = 10\n",
        "n = 20\n",
        "p = 30\n",
        "\n",
        "tensor1 = torch.rand((batch, m ,n))\n",
        "tensor2 = torch.rand((batch, n, p))\n",
        "\n",
        "z = torch.bmm(tensor1, tensor2)\n",
        "print(z.shape)"
      ],
      "execution_count": null,
      "outputs": [
        {
          "output_type": "stream",
          "text": [
            "torch.Size([32, 10, 30])\n"
          ],
          "name": "stdout"
        }
      ]
    },
    {
      "cell_type": "code",
      "metadata": {
        "colab": {
          "base_uri": "https://localhost:8080/"
        },
        "id": "RxoNvhvSw-H-",
        "outputId": "104bc992-5893-431c-a598-0ba968fbcffd"
      },
      "source": [
        "# OTHER USEFUL TENSOR OPERATIONS\n",
        "\n",
        "t = torch.rand(size=(2, 2)) * 10\n",
        "\n",
        "print(t)"
      ],
      "execution_count": null,
      "outputs": [
        {
          "output_type": "stream",
          "text": [
            "tensor([[0.0276, 1.1016],\n",
            "        [0.6195, 0.9884]])\n"
          ],
          "name": "stdout"
        }
      ]
    },
    {
      "cell_type": "code",
      "metadata": {
        "colab": {
          "base_uri": "https://localhost:8080/"
        },
        "id": "5norZQpJN6Tl",
        "outputId": "83c4772a-a407-49b9-b3c8-b8e53f5467ce"
      },
      "source": [
        "print(torch.sum(t, dim=0))  # prints the sum of tensor column wise\n",
        "print(torch.sum(t, dim=1))  # prints the sum row wise"
      ],
      "execution_count": null,
      "outputs": [
        {
          "output_type": "stream",
          "text": [
            "tensor([0.6470, 2.0901])\n",
            "tensor([1.1292, 1.6079])\n"
          ],
          "name": "stdout"
        }
      ]
    },
    {
      "cell_type": "code",
      "metadata": {
        "colab": {
          "base_uri": "https://localhost:8080/"
        },
        "id": "MzArBU5VOMk8",
        "outputId": "53a68018-2056-4557-9136-c26177af0374"
      },
      "source": [
        "# maximum value\n",
        "values, indeces = torch.max(t, dim=0)\n",
        "print(values, indeces)"
      ],
      "execution_count": null,
      "outputs": [
        {
          "output_type": "stream",
          "text": [
            "tensor([0.6195, 1.1016]) tensor([1, 0])\n"
          ],
          "name": "stdout"
        }
      ]
    },
    {
      "cell_type": "code",
      "metadata": {
        "colab": {
          "base_uri": "https://localhost:8080/"
        },
        "id": "fnuEQz4_OitX",
        "outputId": "fe2c5268-ad78-4945-da91-60f941e307ec"
      },
      "source": [
        "# minimum value\n",
        "values, indeces = torch.min(t, dim=1)\n",
        "print(values, indeces)"
      ],
      "execution_count": null,
      "outputs": [
        {
          "output_type": "stream",
          "text": [
            "tensor([0.0276, 0.6195]) tensor([0, 0])\n"
          ],
          "name": "stdout"
        }
      ]
    },
    {
      "cell_type": "code",
      "metadata": {
        "colab": {
          "base_uri": "https://localhost:8080/"
        },
        "id": "-lwP3MlZOrGk",
        "outputId": "9bbf6e65-baef-4887-bb1f-d51bb6fd1871"
      },
      "source": [
        "# index of the maximum values\n",
        "ids = torch.argmax(t, dim=0)\n",
        "print(ids)"
      ],
      "execution_count": null,
      "outputs": [
        {
          "output_type": "stream",
          "text": [
            "tensor([1, 0])\n"
          ],
          "name": "stdout"
        }
      ]
    },
    {
      "cell_type": "code",
      "metadata": {
        "colab": {
          "base_uri": "https://localhost:8080/"
        },
        "id": "-_r3rDSzO2gm",
        "outputId": "89b9f046-18e7-4614-ffbf-c91165d77c44"
      },
      "source": [
        "# finding the mean\n",
        "mean_t = torch.mean(t.float(), dim=0)\n",
        "print(mean_t)"
      ],
      "execution_count": null,
      "outputs": [
        {
          "output_type": "stream",
          "text": [
            "tensor([0.3235, 1.0450])\n"
          ],
          "name": "stdout"
        }
      ]
    },
    {
      "cell_type": "code",
      "metadata": {
        "colab": {
          "base_uri": "https://localhost:8080/"
        },
        "id": "TXc1GA9OPFVs",
        "outputId": "092dc9fe-b43e-4c6b-8011-6228edf0a115"
      },
      "source": [
        "# element wise equality\n",
        "t1 = torch.tensor([1, 2, 3, 4, 5])\n",
        "t2 = torch.tensor([1, 6, 4, 4, 5])\n",
        "\n",
        "z = torch.eq(t1, t2)\n",
        "print(z)"
      ],
      "execution_count": null,
      "outputs": [
        {
          "output_type": "stream",
          "text": [
            "tensor([ True, False, False,  True,  True])\n"
          ],
          "name": "stdout"
        }
      ]
    },
    {
      "cell_type": "code",
      "metadata": {
        "colab": {
          "base_uri": "https://localhost:8080/"
        },
        "id": "SaeKR76BPiJU",
        "outputId": "9f80f38e-88ce-43b2-a957-d21af7753cbf"
      },
      "source": [
        "# sorting tensors\n",
        "\n",
        "sorted_tensor, sorted_idx = torch.sort(t, dim=1, descending=False)\n",
        "print(sorted_tensor)\n",
        "print(sorted_idx)"
      ],
      "execution_count": null,
      "outputs": [
        {
          "output_type": "stream",
          "text": [
            "tensor([[0.0276, 1.1016],\n",
            "        [0.6195, 0.9884]])\n",
            "tensor([[0, 1],\n",
            "        [0, 1]])\n"
          ],
          "name": "stdout"
        }
      ]
    },
    {
      "cell_type": "code",
      "metadata": {
        "colab": {
          "base_uri": "https://localhost:8080/"
        },
        "id": "053YSHvRP0tr",
        "outputId": "2600662e-e648-46ab-d7d4-71b22912824d"
      },
      "source": [
        "# clamping tensor \n",
        "t1 = torch.tensor([102, 14, 15, 16, -15, 65, 234])\n",
        "z = torch.clamp(t1, min=0, max=100)\n",
        "# clamps down max value to 100 and min to 0\n",
        "print(z)"
      ],
      "execution_count": null,
      "outputs": [
        {
          "output_type": "stream",
          "text": [
            "tensor([100,  14,  15,  16,   0,  65, 100])\n"
          ],
          "name": "stdout"
        }
      ]
    },
    {
      "cell_type": "code",
      "metadata": {
        "colab": {
          "base_uri": "https://localhost:8080/"
        },
        "id": "xV2OGmDrQoX4",
        "outputId": "17a5942a-5ec8-4749-bfa4-abfad0c3f564"
      },
      "source": [
        "# looking for true values\n",
        "t1 = torch.tensor([1, 1, 1, 0, 1, 0], dtype=torch.bool)\n",
        "\n",
        "z1 = torch.any(t1)  # returns true if any one of the value is true\n",
        "z2 = torch.all(t1)  # returns true if all the values in tensor are true\n",
        "\n",
        "print(z1)\n",
        "print(z2)"
      ],
      "execution_count": null,
      "outputs": [
        {
          "output_type": "stream",
          "text": [
            "tensor(True)\n",
            "tensor(False)\n"
          ],
          "name": "stdout"
        }
      ]
    },
    {
      "cell_type": "markdown",
      "metadata": {
        "id": "m9RnHl6kRTAJ"
      },
      "source": [
        "### Tensor Indexing"
      ]
    },
    {
      "cell_type": "code",
      "metadata": {
        "id": "iyEsrROaRztF"
      },
      "source": [
        "batch = 10\n",
        "features = 25\n",
        "t = torch.rand((batch, features))"
      ],
      "execution_count": null,
      "outputs": []
    },
    {
      "cell_type": "code",
      "metadata": {
        "colab": {
          "base_uri": "https://localhost:8080/"
        },
        "id": "3RU5QD1zR_Lv",
        "outputId": "28d3c0b1-87ec-4fba-cbd9-dd2453e6f1ff"
      },
      "source": [
        "# getting all features of first sample\n",
        "print(t[0].shape)  # we will get all the 25 features"
      ],
      "execution_count": null,
      "outputs": [
        {
          "output_type": "stream",
          "text": [
            "torch.Size([25])\n"
          ],
          "name": "stdout"
        }
      ]
    },
    {
      "cell_type": "code",
      "metadata": {
        "colab": {
          "base_uri": "https://localhost:8080/"
        },
        "id": "jLEhfnX6SEZC",
        "outputId": "fba26e3f-4ad9-475c-aa24-50a0c67a3f67"
      },
      "source": [
        "# getting first features of all the samples\n",
        "print(t[:, 0])"
      ],
      "execution_count": null,
      "outputs": [
        {
          "output_type": "stream",
          "text": [
            "tensor([0.0491, 0.6124, 0.7058, 0.5425, 0.5900, 0.0986, 0.1746, 0.3089, 0.2362,\n",
            "        0.0689])\n"
          ],
          "name": "stdout"
        }
      ]
    },
    {
      "cell_type": "code",
      "metadata": {
        "colab": {
          "base_uri": "https://localhost:8080/"
        },
        "id": "F72HQeShVJ2C",
        "outputId": "ba80886e-6f0d-4df6-ab5b-a7d0b88e1d12"
      },
      "source": [
        "# getting first 10 features of 3rd sample\n",
        "print(t[2, :10])"
      ],
      "execution_count": null,
      "outputs": [
        {
          "output_type": "stream",
          "text": [
            "tensor([0.7058, 0.8835, 0.9970, 0.3324, 0.3977, 0.3618, 0.6471, 0.9012, 0.6400,\n",
            "        0.2811])\n"
          ],
          "name": "stdout"
        }
      ]
    },
    {
      "cell_type": "code",
      "metadata": {
        "id": "hIwqLWf-VYYT",
        "colab": {
          "base_uri": "https://localhost:8080/"
        },
        "outputId": "0e8f7522-ce25-46d1-a3a1-29fc9e509aba"
      },
      "source": [
        "# getting particular index values\n",
        "t1 = torch.rand(10) * 100\n",
        "t2 = torch.rand((3, 5)) * 100\n",
        "idx = [2, 5, 8]\n",
        "rows = torch.tensor([1, 0])\n",
        "cols = torch.tensor([4, 0])\n",
        "\n",
        "print(t1)\n",
        "print(t1[idx])\n",
        "print(\"******************\")\n",
        "print(t2)\n",
        "print(t2[rows, cols])"
      ],
      "execution_count": null,
      "outputs": [
        {
          "output_type": "stream",
          "text": [
            "tensor([17.1009, 20.2742, 57.9833, 54.5560, 26.1271,  7.8246, 14.1212, 19.8662,\n",
            "         4.8264, 33.8358])\n",
            "tensor([57.9833,  7.8246,  4.8264])\n",
            "******************\n",
            "tensor([[22.3223, 83.3874,  5.9317, 21.3346, 11.0454],\n",
            "        [96.2399, 94.5868, 42.5045, 43.7847, 54.6751],\n",
            "        [59.7881, 98.7516, 15.5193,  3.1875, 81.6057]])\n",
            "tensor([54.6751, 22.3223])\n"
          ],
          "name": "stdout"
        }
      ]
    },
    {
      "cell_type": "code",
      "metadata": {
        "colab": {
          "base_uri": "https://localhost:8080/"
        },
        "id": "Lmi-8nXeDjFm",
        "outputId": "2a405511-468b-46d2-eb2d-89d8395845e7"
      },
      "source": [
        "# getting values with constraints\n",
        "t1 = torch.arange(10)\n",
        "print(t1[(t1 > 2) & (t1 < 8)])\n",
        "print(t1[(t1.remainder(2) == 0) & (t1 > 0)])  # prints even numbers in the tensor"
      ],
      "execution_count": null,
      "outputs": [
        {
          "output_type": "stream",
          "text": [
            "tensor([3, 4, 5, 6, 7])\n",
            "tensor([2, 4, 6, 8])\n"
          ],
          "name": "stdout"
        }
      ]
    },
    {
      "cell_type": "code",
      "metadata": {
        "colab": {
          "base_uri": "https://localhost:8080/"
        },
        "id": "FXSqOGpJEncc",
        "outputId": "2b4762d1-0999-4701-e983-38c176466dde"
      },
      "source": [
        "# more useful operations\n",
        "t1 = torch.arange(10)\n",
        "print(torch.where((t1 < 5), t1, t1 * 2))\n",
        "print(torch.tensor([1,2,3,1,2,3,1,2,3,1,2,3,3,3,3,4]).unique())  # returns the number of unique elements \n",
        "print(torch.rand((3, 5)).ndimension())  # returns the dimension\n",
        "print(torch.rand((3, 5)).numel())  # returns the number of elements"
      ],
      "execution_count": null,
      "outputs": [
        {
          "output_type": "stream",
          "text": [
            "tensor([ 0,  1,  2,  3,  4, 10, 12, 14, 16, 18])\n",
            "tensor([1, 2, 3, 4])\n",
            "2\n",
            "15\n"
          ],
          "name": "stdout"
        }
      ]
    },
    {
      "cell_type": "markdown",
      "metadata": {
        "id": "fJBgh9XsFoi5"
      },
      "source": [
        "### Tensor Reshaping Dimensions"
      ]
    },
    {
      "cell_type": "code",
      "metadata": {
        "colab": {
          "base_uri": "https://localhost:8080/"
        },
        "id": "A3AHm_8RGuXl",
        "outputId": "e6c1c1d1-6e5b-466b-8b92-1d5597a4283b"
      },
      "source": [
        "# reshaping\n",
        "x = torch.arange(9)\n",
        "\n",
        "x1 = x.view(3, 3)\n",
        "x2 = x.reshape(3, 3)\n",
        "\n",
        "print(x1.shape, x2.shape)"
      ],
      "execution_count": null,
      "outputs": [
        {
          "output_type": "stream",
          "text": [
            "torch.Size([3, 3]) torch.Size([3, 3])\n"
          ],
          "name": "stdout"
        }
      ]
    },
    {
      "cell_type": "code",
      "metadata": {
        "colab": {
          "base_uri": "https://localhost:8080/"
        },
        "id": "WRDu38S3G74l",
        "outputId": "a051a751-7536-4ca3-ae7b-e57b04149ac0"
      },
      "source": [
        "x = torch.arange(9).reshape(3, 3)\n",
        "\n",
        "print(x)\n",
        "print(x.t())  # transpose of the tensor"
      ],
      "execution_count": null,
      "outputs": [
        {
          "output_type": "stream",
          "text": [
            "tensor([[0, 1, 2],\n",
            "        [3, 4, 5],\n",
            "        [6, 7, 8]])\n",
            "tensor([[0, 3, 6],\n",
            "        [1, 4, 7],\n",
            "        [2, 5, 8]])\n"
          ],
          "name": "stdout"
        }
      ]
    },
    {
      "cell_type": "code",
      "metadata": {
        "colab": {
          "base_uri": "https://localhost:8080/"
        },
        "id": "HV1FauzuHxQd",
        "outputId": "42b1ff83-f76e-4f8a-a1e8-c4365413eda9"
      },
      "source": [
        "# concatinating tensors\n",
        "x1 = torch.rand(2, 5) * 100\n",
        "x2 = torch.rand(2, 5)\n",
        "\n",
        "print(torch.cat((x1, x2), dim=0))"
      ],
      "execution_count": null,
      "outputs": [
        {
          "output_type": "stream",
          "text": [
            "tensor([[31.9986, 85.1664, 99.2996, 15.8005, 80.5787],\n",
            "        [52.2094, 82.9925, 74.5029, 86.1993, 25.9206],\n",
            "        [ 0.5027,  0.4175,  0.8244,  0.1777,  0.1422],\n",
            "        [ 0.8414,  0.3196,  0.8999,  0.6435,  0.9972]])\n"
          ],
          "name": "stdout"
        }
      ]
    },
    {
      "cell_type": "code",
      "metadata": {
        "colab": {
          "base_uri": "https://localhost:8080/"
        },
        "id": "dg_zjcRkI_q0",
        "outputId": "7b88c9a0-2278-4838-baad-e9aa2a1822ab"
      },
      "source": [
        "batch = 64\n",
        "x = torch.rand((batch, 2, 5))\n",
        "z = x.reshape(batch, -1)\n",
        "y = x.permute(0, 2, 1)\n",
        "print(x.shape)\n",
        "print(z.shape)\n",
        "print(y.shape)\n",
        "print(x.permute(2, 0, 1).shape)"
      ],
      "execution_count": null,
      "outputs": [
        {
          "output_type": "stream",
          "text": [
            "torch.Size([64, 2, 5])\n",
            "torch.Size([64, 10])\n",
            "torch.Size([64, 5, 2])\n",
            "torch.Size([5, 64, 2])\n"
          ],
          "name": "stdout"
        }
      ]
    },
    {
      "cell_type": "code",
      "metadata": {
        "colab": {
          "base_uri": "https://localhost:8080/"
        },
        "id": "S-iULS-vJfrU",
        "outputId": "236ac5fa-34a1-4568-c0ed-1648e1b466f5"
      },
      "source": [
        "# adding a dimension\n",
        "x = torch.arange(10)  # shape - [10]\n",
        "y = x.unsqueeze(0)  # shape - [1,10]\n",
        "z = x.unsqueeze(1)  # shape - [10,1]\n",
        "\n",
        "print(x.shape)\n",
        "print(y.shape)\n",
        "print(z.shape)\n",
        "\n",
        "# to remove the dimension use squeeze method\n",
        "x1 = z.squeeze(1)\n",
        "x2 = y.squeeze(0) \n",
        "print(x1.shape)\n",
        "print(x2.shape)"
      ],
      "execution_count": null,
      "outputs": [
        {
          "output_type": "stream",
          "text": [
            "torch.Size([10])\n",
            "torch.Size([1, 10])\n",
            "torch.Size([10, 1])\n",
            "torch.Size([10])\n",
            "torch.Size([10])\n"
          ],
          "name": "stdout"
        }
      ]
    },
    {
      "cell_type": "markdown",
      "metadata": {
        "id": "RjsyIOVQLAb8"
      },
      "source": [
        "### Creating a fully connected Neural Network"
      ]
    },
    {
      "cell_type": "code",
      "metadata": {
        "id": "lMc5d4FZL0JW"
      },
      "source": [
        "# imports\n",
        "import torch\n",
        "import torch.nn as nn\n",
        "import torch.optim as optim\n",
        "from torch.utils.data import DataLoader\n",
        "import torch.nn.functional as F\n",
        "import torchvision.datasets as datasets\n",
        "import torchvision.transforms as transforms"
      ],
      "execution_count": null,
      "outputs": []
    },
    {
      "cell_type": "code",
      "metadata": {
        "id": "eyZrwtn5nEf4"
      },
      "source": [
        "# Creating fully connected network\n",
        "class NN(nn.Module):\n",
        "  def __init__(self, input_size, num_classes):\n",
        "    super(NN, self).__init__()\n",
        "    self.fc1 = nn.Linear(input_size, 50)\n",
        "    self.fc2 = nn.Linear(50, num_classes)\n",
        "\n",
        "  # forward propogation\n",
        "  def forward(self, x):\n",
        "    x = F.relu(self.fc1(x))\n",
        "    x = self.fc2(x)\n",
        "    return x"
      ],
      "execution_count": null,
      "outputs": []
    },
    {
      "cell_type": "code",
      "metadata": {
        "id": "avlp0imNo4qs"
      },
      "source": [
        "# Setting up device\n",
        "device = torch.device('cuda' if torch.cuda.is_available() else 'cpu')"
      ],
      "execution_count": null,
      "outputs": []
    },
    {
      "cell_type": "code",
      "metadata": {
        "id": "GXmWEUnFpD2O"
      },
      "source": [
        "# Hyperparameters\n",
        "input_size=784\n",
        "num_classes=10\n",
        "lr = 0.001\n",
        "batch_size=64\n",
        "epochs=1"
      ],
      "execution_count": null,
      "outputs": []
    },
    {
      "cell_type": "code",
      "metadata": {
        "id": "Xu1DJzH4pyPC"
      },
      "source": [
        "# loading the data\n",
        "train_mnist = datasets.MNIST(root='mnist/', train=True, transform=transforms.ToTensor(), download=True)\n",
        "train_loader = DataLoader(dataset=train_mnist, batch_size=batch_size, shuffle=True)\n",
        "\n",
        "test_mnist = datasets.MNIST(root='mnist/', train=False, transform=transforms.ToTensor(), download=True)\n",
        "test_loader = DataLoader(dataset=test_mnist, batch_size=batch_size, shuffle=False)"
      ],
      "execution_count": null,
      "outputs": []
    },
    {
      "cell_type": "code",
      "metadata": {
        "id": "r1xwbzahrDHg"
      },
      "source": [
        "# Initializing the model\n",
        "model = NN(input_size=input_size, num_classes=num_classes).to(device)"
      ],
      "execution_count": null,
      "outputs": []
    },
    {
      "cell_type": "code",
      "metadata": {
        "id": "0qw2vqCPrcut"
      },
      "source": [
        "# Loss and Optimizers\n",
        "criterion = nn.CrossEntropyLoss()\n",
        "optimizer = optim.Adam(model.parameters(), lr=lr)"
      ],
      "execution_count": null,
      "outputs": []
    },
    {
      "cell_type": "code",
      "metadata": {
        "id": "kPdPQfuFrzxg"
      },
      "source": [
        "# Training the Network\n",
        "for epoch in range(epochs):\n",
        "  for batch_idx, (data, targets) in enumerate(train_loader):\n",
        "    data = data.to(device=device)\n",
        "    targets = targets.to(device=device)\n",
        "\n",
        "    # reshaping the data to give to neural network\n",
        "    data = data.reshape(data.shape[0], -1)\n",
        "\n",
        "    # forward propagation\n",
        "    scores = model(data)\n",
        "    loss = criterion(scores, targets)\n",
        "\n",
        "    # backward propagation\n",
        "    optimizer.zero_grad()\n",
        "    loss.backward()\n",
        "\n",
        "    # gradient descent \n",
        "    optimizer.step()"
      ],
      "execution_count": null,
      "outputs": []
    },
    {
      "cell_type": "code",
      "metadata": {
        "id": "lwdRxw_2xovV"
      },
      "source": [
        "# Checking accuracy on training and test \n",
        "def check_accuracy(loader, model):\n",
        "  num_correct = 0\n",
        "  num_samples = 0\n",
        "  model.eval()\n",
        "\n",
        "  with torch.no_grad():\n",
        "    for x, y in loader:\n",
        "      x = x.to(device=device)\n",
        "      y = y.to(device=device)\n",
        "\n",
        "      x = x.reshape(x.shape[0], -1)\n",
        "      scores = model(x)\n",
        "\n",
        "      _, predictions = scores.max(1)\n",
        "\n",
        "      num_correct += (predictions == y).sum()\n",
        "      num_samples += predictions.size(0)\n",
        "\n",
        "    acc = float(num_correct/num_samples) * 100\n",
        "    print(f\"Got {num_correct}/{num_samples} with accuracy {acc:.2f}\")\n"
      ],
      "execution_count": null,
      "outputs": []
    },
    {
      "cell_type": "code",
      "metadata": {
        "colab": {
          "base_uri": "https://localhost:8080/"
        },
        "id": "UCEGCS2X01wZ",
        "outputId": "a321cbce-4e68-4bfb-870e-4aa8cd4f1bb4"
      },
      "source": [
        "# Checking accuracy\n",
        "check_accuracy(train_loader, model)\n",
        "check_accuracy(test_loader, model)"
      ],
      "execution_count": null,
      "outputs": [
        {
          "output_type": "stream",
          "text": [
            "Got 55764/60000 with accuracy 92.94\n",
            "Got 9287/10000 with accuracy 92.87\n"
          ],
          "name": "stdout"
        }
      ]
    },
    {
      "cell_type": "markdown",
      "metadata": {
        "id": "MIRWJIg-053H"
      },
      "source": [
        "### Convolutional Neural Network with PyTorch"
      ]
    },
    {
      "cell_type": "code",
      "metadata": {
        "id": "ZQe1K9TX1aN5"
      },
      "source": [
        "# Imports\n",
        "import torch\n",
        "import torch.nn as nn\n",
        "import torch.optim as optim\n",
        "import torch.nn.functional as F\n",
        "from torch.utils.data import DataLoader\n",
        "import torchvision.transforms as transforms\n",
        "import torchvision.datasets as datasets"
      ],
      "execution_count": null,
      "outputs": []
    },
    {
      "cell_type": "code",
      "metadata": {
        "id": "ky6RYp6scyxM"
      },
      "source": [
        "# Creating the CNN class\n",
        "class CNN(nn.Module):\n",
        "  def __init__(self, in_channels=1, num_classes=10):\n",
        "    super(CNN, self).__init__()\n",
        "    self.conv1 = nn.Conv2d(in_channels=1, out_channels=8, kernel_size=(3,3), stride=(1,1), padding=(1,1))\n",
        "    self.pool = nn.MaxPool2d(kernel_size=(2,2), stride=(2,2))\n",
        "    self.conv2 = nn.Conv2d(in_channels=8, out_channels=16, kernel_size=(3,3), padding=(1,1), stride=(1,1))\n",
        "    self.fc1 = nn.Linear(16 * 7 * 7, out_features=num_classes)\n",
        "\n",
        "  def forward(self, x):\n",
        "    x = F.relu(self.conv1(x))\n",
        "    x = self.pool(x)\n",
        "    x = F.relu(self.conv2(x))\n",
        "    x = self.pool(x)\n",
        "    x = x.reshape(x.shape[0], -1)\n",
        "    x = self.fc1(x)\n",
        "    return x\n",
        "    "
      ],
      "execution_count": null,
      "outputs": []
    },
    {
      "cell_type": "code",
      "metadata": {
        "id": "OcfPh5SpfpSI"
      },
      "source": [
        "# Setting up the device\n",
        "device = torch.device('cuda' if torch.cuda.is_available() else 'cpu')"
      ],
      "execution_count": null,
      "outputs": []
    },
    {
      "cell_type": "code",
      "metadata": {
        "id": "AQV1_P3SfvgA"
      },
      "source": [
        "# Hyperparameters\n",
        "in_channels = 1\n",
        "num_classes = 10\n",
        "batch_size = 64\n",
        "epochs = 5\n",
        "learning_rate = 0.001"
      ],
      "execution_count": null,
      "outputs": []
    },
    {
      "cell_type": "code",
      "metadata": {
        "id": "RzMfKXjJf92h"
      },
      "source": [
        "# Initializing the model\n",
        "model = CNN(in_channels=in_channels, num_classes=num_classes).to(device)"
      ],
      "execution_count": null,
      "outputs": []
    },
    {
      "cell_type": "code",
      "metadata": {
        "id": "rYq4EtJPgJEI"
      },
      "source": [
        "# Optimizers and Loss functions\n",
        "optimizer = optim.Adam(params=model.parameters(), lr=learning_rate)\n",
        "criterion = nn.CrossEntropyLoss()"
      ],
      "execution_count": null,
      "outputs": []
    },
    {
      "cell_type": "code",
      "metadata": {
        "id": "5kjSQ7HRn8X4"
      },
      "source": [
        "for epoch in range(epochs):\n",
        "  for batch_idx, (data, target):\n",
        "    data = data.to(device=device)\n",
        "    target=  target.to(device=device)\n",
        "\n",
        "    # reshaping the data\n",
        "    data = data.reshape(data.shape[0], -1)\n",
        "\n",
        "    # forward\n",
        "    scores = model(data)\n",
        "    loss = criterion(scores, target)\n",
        "\n",
        "    # backpropagation\n",
        "    optimizer.zero_grad()\n",
        "    loss.backward()\n",
        "\n",
        "    # gradient step / adam step\n",
        "    optimizer.step()"
      ],
      "execution_count": null,
      "outputs": []
    },
    {
      "cell_type": "code",
      "metadata": {
        "id": "o-Z5eACarogy"
      },
      "source": [
        "check_accuracy(train_loader, model)\n",
        "check_accuracy(test_loader, model)"
      ],
      "execution_count": null,
      "outputs": []
    },
    {
      "cell_type": "markdown",
      "metadata": {
        "id": "7hB1WEz2ruHZ"
      },
      "source": [
        "### Recurrent Neural Networks with Pytorch"
      ]
    },
    {
      "cell_type": "code",
      "metadata": {
        "id": "UrI5ATIPgQd-"
      },
      "source": [
        "# creating an RNN"
      ],
      "execution_count": null,
      "outputs": []
    },
    {
      "cell_type": "code",
      "metadata": {
        "id": "zclmmIFy_DbS"
      },
      "source": [
        "# Imports\n",
        "import torch\n",
        "import torch.nn as nn\n",
        "import torch.optim as optim\n",
        "import torch.nn.functional as F\n",
        "from torch.utils.data import DataLoader\n",
        "import torchvision.transforms as transforms\n",
        "import torchvision.datasets as datasets"
      ],
      "execution_count": null,
      "outputs": []
    },
    {
      "cell_type": "code",
      "metadata": {
        "id": "nHwQlniA_O6a"
      },
      "source": [
        "# Hyperparameters\n",
        "input_size=28\n",
        "sequence_len=28\n",
        "num_classes=10\n",
        "learning_rate=0.001\n",
        "epochs=2\n",
        "batch_size=64\n",
        "hidden_size=256\n",
        "num_layers=2"
      ],
      "execution_count": null,
      "outputs": []
    },
    {
      "cell_type": "code",
      "metadata": {
        "id": "sH3Z4NeS_qHc"
      },
      "source": [
        "# Creating the model\n",
        "class RNN(nn.Module):\n",
        "  def __init__(self, input_size, hidden_size, num_layers, num_classes):\n",
        "    super(RNN, self).__init__()\n",
        "    self.hidden_size=hidden_size\n",
        "    self.num_layers = num_layers\n",
        "\n",
        "    self.rnn = nn.RNN(input_size, hidden_size, num_layers, batch_first=True)\n",
        "    self.fc = nn.Linear(hidden_size*sequence_len, num_classes)\n",
        "\n",
        "  def forward(self, x):\n",
        "    # hidden state init\n",
        "    h0 = torch.zeros(self.num_layers, x.size(0), self.hidden_size).to(device)\n",
        "\n",
        "    # forward propagation\n",
        "    out, _ = self.rnn(x, h0)\n",
        "    out = out.reshape(out.shape[0], -1)\n",
        "    out = self.fc(out)\n",
        "    return out"
      ],
      "execution_count": null,
      "outputs": []
    },
    {
      "cell_type": "code",
      "metadata": {
        "id": "eFC9FejEB6SG"
      },
      "source": [
        "# Hyperparameters\n",
        "input_size=28\n",
        "sequence_len=28\n",
        "num_classes=10\n",
        "learning_rate=0.001\n",
        "epochs=2\n",
        "batch_size=64\n",
        "hidden_size=256\n",
        "num_layers=2"
      ],
      "execution_count": null,
      "outputs": []
    },
    {
      "cell_type": "code",
      "metadata": {
        "id": "IUd5YByQHPXn"
      },
      "source": [
        "# Bidirectional LSTM\n",
        "class BRNN(nn.Module):\n",
        "  def __init__(self, input_size, hidden_size, num_layers, num_classes):\n",
        "    super(BRNN, self).__init__()\n",
        "    self.hidden_size = hidden_size\n",
        "    self.num_layers = num_layers\n",
        "    \n",
        "    self.lstm = nn.LSTM(input_size, hidden_size, num_layers, batch_first=True, bidirectional=True)\n",
        "    self.fc = nn.Linear(hidden_size*2, num_classes)\n",
        "\n",
        "  def forward(self):\n",
        "    h0 = torch.zeros(self.num_layers*2, x.size(0), self.hidden_size).to(device)\n",
        "    c0 = torch.zeros(self.num_layers*2, x.size(0), self.hidden_size).to(device)\n",
        "\n",
        "    out, _ = self.lstm(x, (h0, c0))\n",
        "    out = self.fc(out[:, -1, :])\n",
        "    return out"
      ],
      "execution_count": null,
      "outputs": []
    },
    {
      "cell_type": "code",
      "metadata": {
        "id": "o8iTGIqRtScV"
      },
      "source": [
        "# initializing the model, optimizer and loss function\n",
        "model = BRNN(input_size, hidden_size, num_layers, num_classes).to(device)\n",
        "\n",
        "optim = optim.Adam(params=model.parameters(), lr=learning_rate)\n",
        "criterion = nn.CrossEntropyLoss()"
      ],
      "execution_count": null,
      "outputs": []
    },
    {
      "cell_type": "code",
      "metadata": {
        "id": "H4qRlEglt_Ej"
      },
      "source": [
        "# functions to save and load model\n",
        "def save_checkpoint(state, filename=\"my_checkpoint.pth.tar\"):\n",
        "  print(\"Saving state of the model\")\n",
        "  torch.save(state, filename)\n",
        "\n",
        "\n",
        "def load_checkpoint(checkpoint):\n",
        "  print(\"Loading state of the model\")\n",
        "  model.load_state_dict(checkpoint['state_dict'])\n",
        "  optimizer.load_state_dict(checkpoint['optimizer'])"
      ],
      "execution_count": null,
      "outputs": []
    },
    {
      "cell_type": "code",
      "metadata": {
        "id": "Aaujx799w18z"
      },
      "source": [
        "# loading the model\n",
        "load_model = False\n",
        "if load_model:\n",
        "  load_checkpoint(torch.load('my_checkpoint.pth.tar'))"
      ],
      "execution_count": null,
      "outputs": []
    },
    {
      "cell_type": "code",
      "metadata": {
        "id": "ME3_NzbnsHRt"
      },
      "source": [
        "for epoch in range(epochs):\n",
        "  losses = []\n",
        "\n",
        "  if epoch == 2:\n",
        "    checkpoint = {'state_dict': model.state_dict(), 'optimizer': optim.state_dict()}\n",
        "    save_checkpoint(checkpoint)\n",
        "\n",
        "  # saving the model dictionary at every 3rd epoch\n",
        "  if epoch % 3 == 0:\n",
        "    checkpoint = {'state_dict': model.state_dict()}\n",
        "    save_checkpoint(checkpoint)\n",
        "    \n",
        "  for batch_index, (data, target) in enumerate(train_loader):\n",
        "    data = data.to(device)\n",
        "    target = target.to(device)\n",
        "\n",
        "    # reshaping the data\n",
        "    data = data.reshape(data.shape[0], -1)\n",
        "\n",
        "    # forward prop\n",
        "    scores = model(data)\n",
        "    loss = criterion(scores, target)\n",
        "\n",
        "    # backward prop\n",
        "    optim.zero_grad()\n",
        "    loss.backwards()\n",
        "\n",
        "    optim.step()"
      ],
      "execution_count": null,
      "outputs": []
    },
    {
      "cell_type": "markdown",
      "metadata": {
        "id": "eqvQCpBitpzp"
      },
      "source": [
        "### Transfer Learning and Fine Tuning a Model"
      ]
    },
    {
      "cell_type": "code",
      "metadata": {
        "id": "OTzo0Idw4fv0"
      },
      "source": [
        "import torch\n",
        "import torch.nn as nn\n",
        "import torch.optim as optim\n",
        "import torch.nn.functional as F\n",
        "from torch.utils.data import DataLoader\n",
        "import torchvision\n",
        "import torchvision.datasets as datasets\n",
        "import torchvision.transforms as transforms"
      ],
      "execution_count": null,
      "outputs": []
    },
    {
      "cell_type": "code",
      "metadata": {
        "id": "c601ThwW4-ym"
      },
      "source": [
        "device = torch.device('cuda' if torch.cuda.is_available() else 'cpu')"
      ],
      "execution_count": null,
      "outputs": []
    },
    {
      "cell_type": "code",
      "metadata": {
        "id": "DSoxGz3e5GjB"
      },
      "source": [
        "# hyperparameters\n",
        "\n",
        "in_channels=3\n",
        "num_classes=10\n",
        "learning_rate=1e-3\n",
        "batch_size=1024\n",
        "epochs=5"
      ],
      "execution_count": null,
      "outputs": []
    },
    {
      "cell_type": "code",
      "metadata": {
        "colab": {
          "base_uri": "https://localhost:8080/"
        },
        "id": "u-yzMAy65l4Z",
        "outputId": "c3a232b2-f1bd-44fe-f5d3-cae9adb4bb6d"
      },
      "source": [
        "# loading pretrained model\n",
        "model = torchvision.models.vgg16(pretrained=True)\n",
        "print(model)\n",
        "# we will remove the Average Pooling and Change the classifier to output 10 classes"
      ],
      "execution_count": null,
      "outputs": [
        {
          "output_type": "stream",
          "text": [
            "VGG(\n",
            "  (features): Sequential(\n",
            "    (0): Conv2d(3, 64, kernel_size=(3, 3), stride=(1, 1), padding=(1, 1))\n",
            "    (1): ReLU(inplace=True)\n",
            "    (2): Conv2d(64, 64, kernel_size=(3, 3), stride=(1, 1), padding=(1, 1))\n",
            "    (3): ReLU(inplace=True)\n",
            "    (4): MaxPool2d(kernel_size=2, stride=2, padding=0, dilation=1, ceil_mode=False)\n",
            "    (5): Conv2d(64, 128, kernel_size=(3, 3), stride=(1, 1), padding=(1, 1))\n",
            "    (6): ReLU(inplace=True)\n",
            "    (7): Conv2d(128, 128, kernel_size=(3, 3), stride=(1, 1), padding=(1, 1))\n",
            "    (8): ReLU(inplace=True)\n",
            "    (9): MaxPool2d(kernel_size=2, stride=2, padding=0, dilation=1, ceil_mode=False)\n",
            "    (10): Conv2d(128, 256, kernel_size=(3, 3), stride=(1, 1), padding=(1, 1))\n",
            "    (11): ReLU(inplace=True)\n",
            "    (12): Conv2d(256, 256, kernel_size=(3, 3), stride=(1, 1), padding=(1, 1))\n",
            "    (13): ReLU(inplace=True)\n",
            "    (14): Conv2d(256, 256, kernel_size=(3, 3), stride=(1, 1), padding=(1, 1))\n",
            "    (15): ReLU(inplace=True)\n",
            "    (16): MaxPool2d(kernel_size=2, stride=2, padding=0, dilation=1, ceil_mode=False)\n",
            "    (17): Conv2d(256, 512, kernel_size=(3, 3), stride=(1, 1), padding=(1, 1))\n",
            "    (18): ReLU(inplace=True)\n",
            "    (19): Conv2d(512, 512, kernel_size=(3, 3), stride=(1, 1), padding=(1, 1))\n",
            "    (20): ReLU(inplace=True)\n",
            "    (21): Conv2d(512, 512, kernel_size=(3, 3), stride=(1, 1), padding=(1, 1))\n",
            "    (22): ReLU(inplace=True)\n",
            "    (23): MaxPool2d(kernel_size=2, stride=2, padding=0, dilation=1, ceil_mode=False)\n",
            "    (24): Conv2d(512, 512, kernel_size=(3, 3), stride=(1, 1), padding=(1, 1))\n",
            "    (25): ReLU(inplace=True)\n",
            "    (26): Conv2d(512, 512, kernel_size=(3, 3), stride=(1, 1), padding=(1, 1))\n",
            "    (27): ReLU(inplace=True)\n",
            "    (28): Conv2d(512, 512, kernel_size=(3, 3), stride=(1, 1), padding=(1, 1))\n",
            "    (29): ReLU(inplace=True)\n",
            "    (30): MaxPool2d(kernel_size=2, stride=2, padding=0, dilation=1, ceil_mode=False)\n",
            "  )\n",
            "  (avgpool): AdaptiveAvgPool2d(output_size=(7, 7))\n",
            "  (classifier): Sequential(\n",
            "    (0): Linear(in_features=25088, out_features=4096, bias=True)\n",
            "    (1): ReLU(inplace=True)\n",
            "    (2): Dropout(p=0.5, inplace=False)\n",
            "    (3): Linear(in_features=4096, out_features=4096, bias=True)\n",
            "    (4): ReLU(inplace=True)\n",
            "    (5): Dropout(p=0.5, inplace=False)\n",
            "    (6): Linear(in_features=4096, out_features=1000, bias=True)\n",
            "  )\n",
            ")\n"
          ],
          "name": "stdout"
        }
      ]
    },
    {
      "cell_type": "code",
      "metadata": {
        "id": "7SkUKRty8jlG"
      },
      "source": [
        "# one way to remove the Average Pooling is to replace it with something that just forwards the data without doing anything, ie Identity Class\n",
        "class Identity(nn.Module):\n",
        "  def __init__(self):\n",
        "    super(Identity, self).__init__()\n",
        "\n",
        "  # the forward method just returns x without doing anything\n",
        "  def forward(self, x):\n",
        "    return x"
      ],
      "execution_count": null,
      "outputs": []
    },
    {
      "cell_type": "code",
      "metadata": {
        "colab": {
          "base_uri": "https://localhost:8080/"
        },
        "id": "K9dlYaT68GRU",
        "outputId": "dbf0b91a-aa55-4c16-9aff-9b7f0ecf3469"
      },
      "source": [
        "# lets use the Identity Class and replace Average Pooling with it\n",
        "model.avgpool = Identity()\n",
        "model.classifier = nn.Linear(512, 10)  # getting 10 outputs from the classifier\n",
        "model.to(device)\n",
        "print(model)\n",
        "# as we see now, the classifier outputs 10 values and there is no Average Pooling"
      ],
      "execution_count": null,
      "outputs": [
        {
          "output_type": "stream",
          "text": [
            "VGG(\n",
            "  (features): Sequential(\n",
            "    (0): Conv2d(3, 64, kernel_size=(3, 3), stride=(1, 1), padding=(1, 1))\n",
            "    (1): ReLU(inplace=True)\n",
            "    (2): Conv2d(64, 64, kernel_size=(3, 3), stride=(1, 1), padding=(1, 1))\n",
            "    (3): ReLU(inplace=True)\n",
            "    (4): MaxPool2d(kernel_size=2, stride=2, padding=0, dilation=1, ceil_mode=False)\n",
            "    (5): Conv2d(64, 128, kernel_size=(3, 3), stride=(1, 1), padding=(1, 1))\n",
            "    (6): ReLU(inplace=True)\n",
            "    (7): Conv2d(128, 128, kernel_size=(3, 3), stride=(1, 1), padding=(1, 1))\n",
            "    (8): ReLU(inplace=True)\n",
            "    (9): MaxPool2d(kernel_size=2, stride=2, padding=0, dilation=1, ceil_mode=False)\n",
            "    (10): Conv2d(128, 256, kernel_size=(3, 3), stride=(1, 1), padding=(1, 1))\n",
            "    (11): ReLU(inplace=True)\n",
            "    (12): Conv2d(256, 256, kernel_size=(3, 3), stride=(1, 1), padding=(1, 1))\n",
            "    (13): ReLU(inplace=True)\n",
            "    (14): Conv2d(256, 256, kernel_size=(3, 3), stride=(1, 1), padding=(1, 1))\n",
            "    (15): ReLU(inplace=True)\n",
            "    (16): MaxPool2d(kernel_size=2, stride=2, padding=0, dilation=1, ceil_mode=False)\n",
            "    (17): Conv2d(256, 512, kernel_size=(3, 3), stride=(1, 1), padding=(1, 1))\n",
            "    (18): ReLU(inplace=True)\n",
            "    (19): Conv2d(512, 512, kernel_size=(3, 3), stride=(1, 1), padding=(1, 1))\n",
            "    (20): ReLU(inplace=True)\n",
            "    (21): Conv2d(512, 512, kernel_size=(3, 3), stride=(1, 1), padding=(1, 1))\n",
            "    (22): ReLU(inplace=True)\n",
            "    (23): MaxPool2d(kernel_size=2, stride=2, padding=0, dilation=1, ceil_mode=False)\n",
            "    (24): Conv2d(512, 512, kernel_size=(3, 3), stride=(1, 1), padding=(1, 1))\n",
            "    (25): ReLU(inplace=True)\n",
            "    (26): Conv2d(512, 512, kernel_size=(3, 3), stride=(1, 1), padding=(1, 1))\n",
            "    (27): ReLU(inplace=True)\n",
            "    (28): Conv2d(512, 512, kernel_size=(3, 3), stride=(1, 1), padding=(1, 1))\n",
            "    (29): ReLU(inplace=True)\n",
            "    (30): MaxPool2d(kernel_size=2, stride=2, padding=0, dilation=1, ceil_mode=False)\n",
            "  )\n",
            "  (avgpool): Identity()\n",
            "  (classifier): Linear(in_features=512, out_features=10, bias=True)\n",
            ")\n"
          ],
          "name": "stdout"
        }
      ]
    },
    {
      "cell_type": "code",
      "metadata": {
        "colab": {
          "base_uri": "https://localhost:8080/"
        },
        "id": "tmFs3jhP5skJ",
        "outputId": "77b6f753-c6cd-49bc-c58b-6824290e9cbd"
      },
      "source": [
        "# getting the data\n",
        "train_dataset = datasets.CIFAR10(root='dataset', train=True, transform=transforms.ToTensor(), download=True)\n",
        "train_loader = DataLoader(train_dataset, batch_size=batch_size, shuffle=True)"
      ],
      "execution_count": null,
      "outputs": [
        {
          "output_type": "stream",
          "text": [
            "Files already downloaded and verified\n"
          ],
          "name": "stdout"
        }
      ]
    },
    {
      "cell_type": "code",
      "metadata": {
        "id": "1thjeVH76Ku2"
      },
      "source": [
        "# loss and optimizer \n",
        "\n",
        "optimizer = optim.Adam(params=model.parameters(), lr=learning_rate)\n",
        "criterion = nn.CrossEntropyLoss()"
      ],
      "execution_count": null,
      "outputs": []
    },
    {
      "cell_type": "code",
      "metadata": {
        "colab": {
          "base_uri": "https://localhost:8080/"
        },
        "id": "47B_q8i19DGp",
        "outputId": "7c0e054a-42b7-4082-c191-10a828a5ce53"
      },
      "source": [
        "# training the model\n",
        "\n",
        "for epoch in range(epochs):\n",
        "  losses = []\n",
        "  for index, (data, target) in enumerate(train_loader):\n",
        "\n",
        "    data = data.to(device)\n",
        "    target = target.to(device)\n",
        "\n",
        "    # forward prop\n",
        "    scores = model(data)\n",
        "    loss = criterion(scores, target)\n",
        "    losses.append(loss.item())\n",
        "    # backward prop\n",
        "    optimizer.zero_grad()\n",
        "    loss.backward()\n",
        "\n",
        "    # gradient step\n",
        "    optimizer.step()\n",
        "  print(f\"Cost at Epoch {epoch + 1}: {(sum(losses)/len(losses))}\")"
      ],
      "execution_count": null,
      "outputs": [
        {
          "output_type": "stream",
          "text": [
            "Cost at Epoch 1: 2.1953284472835306\n",
            "Cost at Epoch 2: 1.5895737336606395\n",
            "Cost at Epoch 3: 1.1356552170247447\n",
            "Cost at Epoch 4: 0.7795456392424447\n",
            "Cost at Epoch 5: 0.5317610289369311\n"
          ],
          "name": "stdout"
        }
      ]
    },
    {
      "cell_type": "code",
      "metadata": {
        "id": "w-0ft030-9lM"
      },
      "source": [
        "# Above we backpropagated through the entire model, whereas we only require or need to change the weights of only a few layers\n",
        "# we set the property 'requires_grad' to False in model parameters"
      ],
      "execution_count": null,
      "outputs": []
    },
    {
      "cell_type": "code",
      "metadata": {
        "id": "4x-BZhBzD5cu"
      },
      "source": [
        "# for params in model.parameters():\n",
        "#   params.requires_grad = False\n",
        "\n",
        "# The above code will not train any layer as we have set all the layers to False"
      ],
      "execution_count": null,
      "outputs": []
    },
    {
      "cell_type": "code",
      "metadata": {
        "id": "qyMPo2HqEDmx"
      },
      "source": [
        "import torch \n",
        "import torch.nn as nn\n",
        "import torch.optim as optim\n",
        "import torch.nn.functional as F\n",
        "import torchvision\n",
        "import torchvision.transforms as transforms\n",
        "import torchvision.datasets as datasets\n",
        "from torch.utils.data import DataLoader"
      ],
      "execution_count": null,
      "outputs": []
    },
    {
      "cell_type": "code",
      "metadata": {
        "id": "-brOxWA1wvsa"
      },
      "source": [
        "# setting the device \n",
        "device = torch.device('cuda' if torch.cuda.is_available() else 'cpu')"
      ],
      "execution_count": null,
      "outputs": []
    },
    {
      "cell_type": "code",
      "metadata": {
        "id": "L4yIyT1Hxofy"
      },
      "source": [
        "# hyperparameters\n",
        "\n",
        "in_channels=3\n",
        "num_classes=10\n",
        "learning_rate=1e-3\n",
        "batch_size=1024\n",
        "epochs=5"
      ],
      "execution_count": null,
      "outputs": []
    },
    {
      "cell_type": "code",
      "metadata": {
        "colab": {
          "base_uri": "https://localhost:8080/",
          "height": 100,
          "referenced_widgets": [
            "a95280bf31af45a78fb8b3a6adb40869",
            "c14b843c89cd4f3abfde85084f4f54c1",
            "ddb1469b720240be8099ea3e433d6007",
            "95074207e1bf47079eaa577fb0cd2ed0",
            "c7c0ffa29cb8410f985a69458712cfa2",
            "142d136e736243e4a1e2215117fb4f42",
            "6314aa9a6c7940dd8845cf00d93e24a3",
            "43cd1d08976e4eb2a415ab17f5b1ceaf"
          ]
        },
        "id": "qHdM8Cf3yQ1A",
        "outputId": "67ad76b3-95e5-4f8b-bf16-0022b4591cd0"
      },
      "source": [
        "# getting the data\n",
        "train_data = datasets.CIFAR10(root='dataset/', train=True, transform=transforms.ToTensor(), download=True)\n",
        "train_loader = DataLoader(train_data, shuffle=True, batch_size=batch_size)"
      ],
      "execution_count": null,
      "outputs": [
        {
          "output_type": "stream",
          "text": [
            "Downloading https://www.cs.toronto.edu/~kriz/cifar-10-python.tar.gz to dataset/cifar-10-python.tar.gz\n"
          ],
          "name": "stdout"
        },
        {
          "output_type": "display_data",
          "data": {
            "application/vnd.jupyter.widget-view+json": {
              "model_id": "a95280bf31af45a78fb8b3a6adb40869",
              "version_minor": 0,
              "version_major": 2
            },
            "text/plain": [
              "HBox(children=(FloatProgress(value=0.0, max=170498071.0), HTML(value='')))"
            ]
          },
          "metadata": {
            "tags": []
          }
        },
        {
          "output_type": "stream",
          "text": [
            "\n",
            "Extracting dataset/cifar-10-python.tar.gz to dataset/\n"
          ],
          "name": "stdout"
        }
      ]
    },
    {
      "cell_type": "code",
      "metadata": {
        "id": "_1J6Hv2uym-F"
      },
      "source": [
        "class Identity(nn.Module):\n",
        "  def __init__(self):\n",
        "    super(Identity, self).__init__()\n",
        "\n",
        "  def forward(self, x):\n",
        "    return x"
      ],
      "execution_count": null,
      "outputs": []
    },
    {
      "cell_type": "code",
      "metadata": {
        "id": "r-gPN97iy-Ot"
      },
      "source": [
        "# getting the model\n",
        "model = torchvision.models.vgg16(pretrained=True)"
      ],
      "execution_count": null,
      "outputs": []
    },
    {
      "cell_type": "code",
      "metadata": {
        "id": "ykIAPi4j0zsB"
      },
      "source": [
        "# Tuning the model, this code below makes the layers not trainable(trianable=False)\n",
        "for params in model.parameters():\n",
        "  params.requires_grad=False"
      ],
      "execution_count": null,
      "outputs": []
    },
    {
      "cell_type": "code",
      "metadata": {
        "colab": {
          "base_uri": "https://localhost:8080/"
        },
        "id": "lDeJC4ANzLAf",
        "outputId": "cbbb66b0-8544-4919-895d-7e6346c48565"
      },
      "source": [
        "# changing the avgpool and classifier \n",
        "model.avgpool = Identity()\n",
        "model.classifier = nn.Sequential(\n",
        "    nn.Linear(512, 100),\n",
        "    nn.ReLU(),\n",
        "    nn.Linear(100, 10)\n",
        ")\n",
        "model.to(device)"
      ],
      "execution_count": null,
      "outputs": [
        {
          "output_type": "execute_result",
          "data": {
            "text/plain": [
              "VGG(\n",
              "  (features): Sequential(\n",
              "    (0): Conv2d(3, 64, kernel_size=(3, 3), stride=(1, 1), padding=(1, 1))\n",
              "    (1): ReLU(inplace=True)\n",
              "    (2): Conv2d(64, 64, kernel_size=(3, 3), stride=(1, 1), padding=(1, 1))\n",
              "    (3): ReLU(inplace=True)\n",
              "    (4): MaxPool2d(kernel_size=2, stride=2, padding=0, dilation=1, ceil_mode=False)\n",
              "    (5): Conv2d(64, 128, kernel_size=(3, 3), stride=(1, 1), padding=(1, 1))\n",
              "    (6): ReLU(inplace=True)\n",
              "    (7): Conv2d(128, 128, kernel_size=(3, 3), stride=(1, 1), padding=(1, 1))\n",
              "    (8): ReLU(inplace=True)\n",
              "    (9): MaxPool2d(kernel_size=2, stride=2, padding=0, dilation=1, ceil_mode=False)\n",
              "    (10): Conv2d(128, 256, kernel_size=(3, 3), stride=(1, 1), padding=(1, 1))\n",
              "    (11): ReLU(inplace=True)\n",
              "    (12): Conv2d(256, 256, kernel_size=(3, 3), stride=(1, 1), padding=(1, 1))\n",
              "    (13): ReLU(inplace=True)\n",
              "    (14): Conv2d(256, 256, kernel_size=(3, 3), stride=(1, 1), padding=(1, 1))\n",
              "    (15): ReLU(inplace=True)\n",
              "    (16): MaxPool2d(kernel_size=2, stride=2, padding=0, dilation=1, ceil_mode=False)\n",
              "    (17): Conv2d(256, 512, kernel_size=(3, 3), stride=(1, 1), padding=(1, 1))\n",
              "    (18): ReLU(inplace=True)\n",
              "    (19): Conv2d(512, 512, kernel_size=(3, 3), stride=(1, 1), padding=(1, 1))\n",
              "    (20): ReLU(inplace=True)\n",
              "    (21): Conv2d(512, 512, kernel_size=(3, 3), stride=(1, 1), padding=(1, 1))\n",
              "    (22): ReLU(inplace=True)\n",
              "    (23): MaxPool2d(kernel_size=2, stride=2, padding=0, dilation=1, ceil_mode=False)\n",
              "    (24): Conv2d(512, 512, kernel_size=(3, 3), stride=(1, 1), padding=(1, 1))\n",
              "    (25): ReLU(inplace=True)\n",
              "    (26): Conv2d(512, 512, kernel_size=(3, 3), stride=(1, 1), padding=(1, 1))\n",
              "    (27): ReLU(inplace=True)\n",
              "    (28): Conv2d(512, 512, kernel_size=(3, 3), stride=(1, 1), padding=(1, 1))\n",
              "    (29): ReLU(inplace=True)\n",
              "    (30): MaxPool2d(kernel_size=2, stride=2, padding=0, dilation=1, ceil_mode=False)\n",
              "  )\n",
              "  (avgpool): Identity()\n",
              "  (classifier): Sequential(\n",
              "    (0): Linear(in_features=512, out_features=100, bias=True)\n",
              "    (1): ReLU()\n",
              "    (2): Linear(in_features=100, out_features=10, bias=True)\n",
              "  )\n",
              ")"
            ]
          },
          "metadata": {
            "tags": []
          },
          "execution_count": 12
        }
      ]
    },
    {
      "cell_type": "code",
      "metadata": {
        "id": "HTLaX88i11bp"
      },
      "source": [
        "# loss and optimizer\n",
        "criterion = nn.CrossEntropyLoss()\n",
        "optimizer = optim.Adam(params = model.parameters(), lr=learning_rate)"
      ],
      "execution_count": null,
      "outputs": []
    },
    {
      "cell_type": "code",
      "metadata": {
        "colab": {
          "base_uri": "https://localhost:8080/"
        },
        "id": "s17KPkkCzgk0",
        "outputId": "1579f9d0-0faa-42be-a25c-61dd1535132a"
      },
      "source": [
        "# training loop\n",
        "for epoch in range(epochs):\n",
        "  losses = []\n",
        "  for index, (data, target) in enumerate(train_loader):\n",
        "\n",
        "    data = data.to(device)\n",
        "    target = target.to(device)\n",
        "\n",
        "    # forward prop\n",
        "    scores = model(data)\n",
        "    loss = criterion(scores, target)\n",
        "\n",
        "    losses.append(loss.item())\n",
        "\n",
        "    # backward prop\n",
        "    optimizer.zero_grad()\n",
        "    loss.backward()\n",
        "\n",
        "    # gradient step\n",
        "    optimizer.step()\n",
        "\n",
        "  print(f\"Loss at Epoch {epoch+1}: {((sum(losses)/ len(losses)))}\")"
      ],
      "execution_count": null,
      "outputs": [
        {
          "output_type": "stream",
          "text": [
            "Loss at Epoch 1: 1.6074142407397836\n",
            "Loss at Epoch 2: 1.2190609708124278\n",
            "Loss at Epoch 3: 1.1484228980784514\n",
            "Loss at Epoch 4: 1.1130682108353596\n",
            "Loss at Epoch 5: 1.0906659243058185\n"
          ],
          "name": "stdout"
        }
      ]
    },
    {
      "cell_type": "markdown",
      "metadata": {
        "id": "OR7zZr5E2Y15"
      },
      "source": [
        "### Building Custom Image Datasets"
      ]
    },
    {
      "cell_type": "code",
      "metadata": {
        "id": "md8X1sHdE9lA"
      },
      "source": [
        "import pandas as pd\n",
        "import os\n",
        "import torch\n",
        "from torch.utils.data import Dataset\n",
        "from torch.utils.data import DataLoader\n",
        "from skimage import io"
      ],
      "execution_count": null,
      "outputs": []
    },
    {
      "cell_type": "code",
      "metadata": {
        "id": "Krpm5oaxFoSK"
      },
      "source": [
        "# building a class to load the data \n",
        "# the csv file contains - Image name in first column and the class (dog or cat) in the second column\n",
        "\n",
        "# the following class has method to get one image and corresponding labels\n",
        "class CatsAndDogs(Dataset):\n",
        "  def __init__(self, csv_file, root_dir, transform=None):\n",
        "    self.annotations = pd.read_csv(csv_file)\n",
        "    self.root_dir = root_dir\n",
        "    self.transform = transform\n",
        "\n",
        "  def __len__(self):\n",
        "    return len(self.annotations)\n",
        "\n",
        "  def __getitem__(self, index):\n",
        "    img_path = os.path.join(self.root_sir, self.annotations.iloc[index, 0])\n",
        "    image = io.imread(img_path)  # image\n",
        "    y_label = torch.tensor(int(self.annotations.iloc[index, 1]))  # label\n",
        "\n",
        "    # applying the transforms\n",
        "    if self.transform:\n",
        "      image = self.transform(image)\n",
        "\n",
        "    return (image, y_label)"
      ],
      "execution_count": null,
      "outputs": []
    },
    {
      "cell_type": "code",
      "metadata": {
        "id": "a9d_iPfdH0aH"
      },
      "source": [
        "# Loading the data throught the class we just made \n",
        "csv_file = 'cats_and_dogs.csv'  # name of the csv file\n",
        "root_dir = os.getcwd()\n",
        "batch_size = 512\n",
        "\n",
        "dataset = CatsAndDogs(csv_file, root_dir, transform=torchvision.transforms.ToTensor())\n",
        "\n",
        "# train and test data:\n",
        "train_dataset, test_dataset = torch.utils.data.random_split(dataset, [20000, 5000])\n",
        "\n",
        "train_loader = DataLoader(train_dataset, batch_size=batch_size, shuffle=True)\n",
        "test_loader = DataLoader(test_dataset, batch_size=batch_size, shuffle=False)"
      ],
      "execution_count": null,
      "outputs": []
    }
  ]
}